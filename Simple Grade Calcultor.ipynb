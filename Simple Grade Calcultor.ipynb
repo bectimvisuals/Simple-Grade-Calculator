{
 "cells": [
  {
   "cell_type": "code",
   "execution_count": 34,
   "id": "0cb9a666-a1eb-4ed1-a611-12dbfd6dc8f7",
   "metadata": {},
   "outputs": [
    {
     "name": "stdin",
     "output_type": "stream",
     "text": [
      "What is your name? Aku\n"
     ]
    },
    {
     "name": "stdout",
     "output_type": "stream",
     "text": [
      "Hello Aku\n"
     ]
    }
   ],
   "source": [
    "name = input(\"What is your name?\")\n",
    "print(\"Hello\", name)"
   ]
  },
  {
   "cell_type": "code",
   "execution_count": 35,
   "id": "a3a87bac-ce97-4713-b61a-4317aa267bf0",
   "metadata": {},
   "outputs": [
    {
     "name": "stdout",
     "output_type": "stream",
     "text": [
      "Today will be calculating you current academic grade. I hope you are ready to know your academic faith?\n"
     ]
    }
   ],
   "source": [
    "info = \"Today will be calculating you current academic grade. I hope you are ready to know your academic faith?\"\n",
    "print(info)"
   ]
  },
  {
   "cell_type": "code",
   "execution_count": 40,
   "id": "2f8912a3-1d2e-4e91-9ada-31285e374736",
   "metadata": {},
   "outputs": [
    {
     "name": "stdin",
     "output_type": "stream",
     "text": [
      "Are you? yes\n"
     ]
    },
    {
     "name": "stdout",
     "output_type": "stream",
     "text": [
      "Alright lets get started\n"
     ]
    }
   ],
   "source": [
    "q1 = input(\"Are you?\")\n",
    "if q1 == \"yes\":\n",
    "    print(\"Alright lets get started\")\n",
    "else:\n",
    "    print(\"It is fine to be a bit scared. When you are ready, I'll be here. Just make sure to check on time.\")\n"
   ]
  },
  {
   "cell_type": "code",
   "execution_count": 41,
   "id": "44ffbeef-6f30-47ec-95f9-e34c200db857",
   "metadata": {},
   "outputs": [
    {
     "name": "stdout",
     "output_type": "stream",
     "text": [
      "To successfully calculate your grade, I need to know you subjects scores.\n"
     ]
    }
   ],
   "source": [
    "info1 = \"To successfully calculate your grade, I need to know you subjects scores.\"\n",
    "print(info1)"
   ]
  },
  {
   "cell_type": "code",
   "execution_count": 46,
   "id": "69e0530b-6ab9-42b9-810e-162bf0faf331",
   "metadata": {},
   "outputs": [
    {
     "name": "stdin",
     "output_type": "stream",
     "text": [
      "What is your math score:  69\n",
      "What is your english score:  67\n",
      "What is your physics score:  66\n",
      "What is your chemistry score:  65\n",
      "What is your biology score:  64\n"
     ]
    }
   ],
   "source": [
    "math_scores = int(input(\"What is your math score: \"))\n",
    "english_scores =int(input(\"What is your english score: \"))\n",
    "physics_scores = int(input(\"What is your physics score: \"))\n",
    "chemistry_scores = int(input(\"What is your chemistry score: \"))\n",
    "biology_scores = int(input(\"What is your biology score: \"))"
   ]
  },
  {
   "cell_type": "code",
   "execution_count": 47,
   "id": "524cf3e7-ae01-4d5f-ad2a-e9d4d52f96de",
   "metadata": {},
   "outputs": [
    {
     "name": "stdout",
     "output_type": "stream",
     "text": [
      "66.2\n",
      "Your current academic grade is B. Well done! You can aim for higher next session.\n"
     ]
    }
   ],
   "source": [
    "def average_scores():\n",
    "    sum = int((math_scores + english_scores + physics_scores + chemistry_scores + biology_scores))\n",
    "    average = sum/5\n",
    "    print(average)\n",
    "\n",
    "    if average >= 70:\n",
    "        print(\"Your current academic grade is A. Great Job!\")\n",
    "    elif average >= 60:\n",
    "        print(\"Your current academic grade is B. Well done! You can aim for higher next session.\")\n",
    "    elif average >= 50:\n",
    "        print(\"Your current academic grade is C. You are at the average level. Aim Higher!\")\n",
    "    elif average >= 40:\n",
    "        print(\"Your current academic grade is D. You are below average. I know you can do better!\")\n",
    "    else:\n",
    "        print(\"Your current academic grade is F. You failed. You have to repeat the class\")\n",
    "average_scores()\n"
   ]
  },
  {
   "cell_type": "code",
   "execution_count": null,
   "id": "1ceaec9f-4d12-4c8d-ba15-b1a92fda69cd",
   "metadata": {},
   "outputs": [],
   "source": []
  },
  {
   "cell_type": "code",
   "execution_count": null,
   "id": "0cc5a11d-b6c2-4234-830b-9a41040d49d0",
   "metadata": {},
   "outputs": [],
   "source": []
  }
 ],
 "metadata": {
  "kernelspec": {
   "display_name": "Python 3 (ipykernel)",
   "language": "python",
   "name": "python3"
  },
  "language_info": {
   "codemirror_mode": {
    "name": "ipython",
    "version": 3
   },
   "file_extension": ".py",
   "mimetype": "text/x-python",
   "name": "python",
   "nbconvert_exporter": "python",
   "pygments_lexer": "ipython3",
   "version": "3.13.5"
  }
 },
 "nbformat": 4,
 "nbformat_minor": 5
}
